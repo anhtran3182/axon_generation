{
 "cells": [
  {
   "cell_type": "code",
   "execution_count": 12,
   "metadata": {},
   "outputs": [],
   "source": [
    "from pathlib import Path as path\n",
    "import pandas as pd\n",
    "\n",
    "def imagej_to_sim4life(infile, outfile, pix_per_micron=1, label=\"Label\"):\n",
    "    df = pd.read_csv(infile)\n",
    "    # Make new DF with 1 column, each element is [X, Y, 0] from df\n",
    "    xlist = list(df[\"X\"])\n",
    "    ylist = list(df[\"Y\"])\n",
    "    zlist = [0] * len(xlist)\n",
    "\n",
    "    xconv = [float(x) / pix_per_micron for x in xlist]\n",
    "    yconv = [float(y) / pix_per_micron for y in ylist]\n",
    "\n",
    "    pointlist = [[x, y, z] for x, y, z in zip(xconv, yconv, zlist)]\n",
    "\n",
    "    # Make a new DF with 1 column from pointlist, the column name is label\n",
    "    df2 = pd.DataFrame({label: pointlist})\n",
    "    df2.to_csv(outfile)\n",
    "   \n"
   ]
  },
  {
   "cell_type": "code",
   "execution_count": 13,
   "metadata": {},
   "outputs": [],
   "source": [
    "infile = path(r\"C:\\Users\\dalloyd\\Documents\\Capstone 2023 Modeling\\22209-20x_Countour_XY.csv\")\n",
    "outfile = path(r\"C:\\Users\\dalloyd\\Documents\\Capstone 2023 Modeling\\22209-20x_Countour_XYZ.csv\")\n",
    "\n",
    "ppm = 2401.336 / 1000\n",
    "imagej_to_sim4life(infile, outfile, ppm, \"Fascicle 1\")"
   ]
  }
 ],
 "metadata": {
  "kernelspec": {
   "display_name": "aetorch",
   "language": "python",
   "name": "python3"
  },
  "language_info": {
   "codemirror_mode": {
    "name": "ipython",
    "version": 3
   },
   "file_extension": ".py",
   "mimetype": "text/x-python",
   "name": "python",
   "nbconvert_exporter": "python",
   "pygments_lexer": "ipython3",
   "version": "3.10.10"
  },
  "orig_nbformat": 4
 },
 "nbformat": 4,
 "nbformat_minor": 2
}
