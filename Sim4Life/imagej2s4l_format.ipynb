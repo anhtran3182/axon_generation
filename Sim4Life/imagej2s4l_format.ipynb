{
 "cells": [
  {
   "cell_type": "code",
   "execution_count": 1,
   "metadata": {},
   "outputs": [],
   "source": [
    "from pathlib import Path as path\n",
    "import pandas as pd\n",
    "\n",
    "def imagej_to_sim4life(infile, outfile, pix_per_micron=1, label=\"Label\"):\n",
    "    df = pd.read_csv(infile)\n",
    "    # Make new DF with 1 column, each element is [X, Y, 0] from df\n",
    "    xlist = list(df[\"X\"])\n",
    "    ylist = list(df[\"Y\"])\n",
    "    zlist = [0] * len(xlist)\n",
    "\n",
    "    xconv = [float(x) / pix_per_micron for x in xlist]\n",
    "    yconv = [float(y) / pix_per_micron for y in ylist]\n",
    "\n",
    "    pointlist = [[x, y, z] for x, y, z in zip(xconv, yconv, zlist)]\n",
    "\n",
    "    # Make a new DF with 1 column from pointlist, the column name is label\n",
    "    df2 = pd.DataFrame({label: pointlist})\n",
    "    df2.to_csv(outfile)\n",
    "   \n"
   ]
  },
  {
   "cell_type": "code",
   "execution_count": 5,
   "metadata": {},
   "outputs": [],
   "source": [
    "import csv\n",
    "\n",
    "def extract_xy_from_file(filename):\n",
    "    df = pd.read_csv(filename)\n",
    "    x_values = df['Centroid_x'].tolist()\n",
    "    y_values = df['Centroid_y'].tolist()\n",
    "    \n",
    "    return {'X': x_values, 'Y': y_values}\n",
    "\n",
    "xy_values = extract_xy_from_file(\"/Users/anhtran/Documents/GitHub/axon_generation/axon_info.csv\")\n",
    "    \n",
    "with open('axon_info_XY', 'w', newline='') as csvfile:\n",
    "    fieldnames = ['X', 'Y']\n",
    "    writer = csv.DictWriter(csvfile, fieldnames=fieldnames)\n",
    "    writer.writeheader()\n",
    "    for i in range(len(xy_values['X'])):\n",
    "        writer.writerow({'X': xy_values['X'][i], 'Y': xy_values['Y'][i]})\n",
    "\n"
   ]
  },
  {
   "cell_type": "code",
   "execution_count": 2,
   "metadata": {},
   "outputs": [
    {
     "ename": "KeyError",
     "evalue": "'X'",
     "output_type": "error",
     "traceback": [
      "\u001b[0;31m---------------------------------------------------------------------------\u001b[0m",
      "\u001b[0;31mKeyError\u001b[0m                                  Traceback (most recent call last)",
      "File \u001b[0;32m~/anaconda3/envs/axongen/lib/python3.11/site-packages/pandas/core/indexes/base.py:3652\u001b[0m, in \u001b[0;36mIndex.get_loc\u001b[0;34m(self, key)\u001b[0m\n\u001b[1;32m   3651\u001b[0m \u001b[39mtry\u001b[39;00m:\n\u001b[0;32m-> 3652\u001b[0m     \u001b[39mreturn\u001b[39;00m \u001b[39mself\u001b[39;49m\u001b[39m.\u001b[39;49m_engine\u001b[39m.\u001b[39;49mget_loc(casted_key)\n\u001b[1;32m   3653\u001b[0m \u001b[39mexcept\u001b[39;00m \u001b[39mKeyError\u001b[39;00m \u001b[39mas\u001b[39;00m err:\n",
      "File \u001b[0;32m~/anaconda3/envs/axongen/lib/python3.11/site-packages/pandas/_libs/index.pyx:147\u001b[0m, in \u001b[0;36mpandas._libs.index.IndexEngine.get_loc\u001b[0;34m()\u001b[0m\n",
      "File \u001b[0;32m~/anaconda3/envs/axongen/lib/python3.11/site-packages/pandas/_libs/index.pyx:176\u001b[0m, in \u001b[0;36mpandas._libs.index.IndexEngine.get_loc\u001b[0;34m()\u001b[0m\n",
      "File \u001b[0;32mpandas/_libs/hashtable_class_helper.pxi:7080\u001b[0m, in \u001b[0;36mpandas._libs.hashtable.PyObjectHashTable.get_item\u001b[0;34m()\u001b[0m\n",
      "File \u001b[0;32mpandas/_libs/hashtable_class_helper.pxi:7088\u001b[0m, in \u001b[0;36mpandas._libs.hashtable.PyObjectHashTable.get_item\u001b[0;34m()\u001b[0m\n",
      "\u001b[0;31mKeyError\u001b[0m: 'X'",
      "\nThe above exception was the direct cause of the following exception:\n",
      "\u001b[0;31mKeyError\u001b[0m                                  Traceback (most recent call last)",
      "Cell \u001b[0;32mIn[2], line 5\u001b[0m\n\u001b[1;32m      2\u001b[0m outfile \u001b[39m=\u001b[39m path(\u001b[39mr\u001b[39m\u001b[39m\"\u001b[39m\u001b[39m/Users/anhtran/Documents/GitHub/axon_generation/axon_info_XYZ.csv\u001b[39m\u001b[39m\"\u001b[39m)\n\u001b[1;32m      4\u001b[0m ppm \u001b[39m=\u001b[39m \u001b[39m2401.336\u001b[39m \u001b[39m/\u001b[39m \u001b[39m1000\u001b[39m\n\u001b[0;32m----> 5\u001b[0m imagej_to_sim4life(infile, outfile, ppm, \u001b[39m\"\u001b[39;49m\u001b[39mFascicle 1\u001b[39;49m\u001b[39m\"\u001b[39;49m)\n",
      "Cell \u001b[0;32mIn[1], line 7\u001b[0m, in \u001b[0;36mimagej_to_sim4life\u001b[0;34m(infile, outfile, pix_per_micron, label)\u001b[0m\n\u001b[1;32m      5\u001b[0m df \u001b[39m=\u001b[39m pd\u001b[39m.\u001b[39mread_csv(infile)\n\u001b[1;32m      6\u001b[0m \u001b[39m# Make new DF with 1 column, each element is [X, Y, 0] from df\u001b[39;00m\n\u001b[0;32m----> 7\u001b[0m xlist \u001b[39m=\u001b[39m \u001b[39mlist\u001b[39m(df[\u001b[39m\"\u001b[39;49m\u001b[39mX\u001b[39;49m\u001b[39m\"\u001b[39;49m])\n\u001b[1;32m      8\u001b[0m ylist \u001b[39m=\u001b[39m \u001b[39mlist\u001b[39m(df[\u001b[39m\"\u001b[39m\u001b[39mY\u001b[39m\u001b[39m\"\u001b[39m])\n\u001b[1;32m      9\u001b[0m zlist \u001b[39m=\u001b[39m [\u001b[39m0\u001b[39m] \u001b[39m*\u001b[39m \u001b[39mlen\u001b[39m(xlist)\n",
      "File \u001b[0;32m~/anaconda3/envs/axongen/lib/python3.11/site-packages/pandas/core/frame.py:3760\u001b[0m, in \u001b[0;36mDataFrame.__getitem__\u001b[0;34m(self, key)\u001b[0m\n\u001b[1;32m   3758\u001b[0m \u001b[39mif\u001b[39;00m \u001b[39mself\u001b[39m\u001b[39m.\u001b[39mcolumns\u001b[39m.\u001b[39mnlevels \u001b[39m>\u001b[39m \u001b[39m1\u001b[39m:\n\u001b[1;32m   3759\u001b[0m     \u001b[39mreturn\u001b[39;00m \u001b[39mself\u001b[39m\u001b[39m.\u001b[39m_getitem_multilevel(key)\n\u001b[0;32m-> 3760\u001b[0m indexer \u001b[39m=\u001b[39m \u001b[39mself\u001b[39;49m\u001b[39m.\u001b[39;49mcolumns\u001b[39m.\u001b[39;49mget_loc(key)\n\u001b[1;32m   3761\u001b[0m \u001b[39mif\u001b[39;00m is_integer(indexer):\n\u001b[1;32m   3762\u001b[0m     indexer \u001b[39m=\u001b[39m [indexer]\n",
      "File \u001b[0;32m~/anaconda3/envs/axongen/lib/python3.11/site-packages/pandas/core/indexes/base.py:3654\u001b[0m, in \u001b[0;36mIndex.get_loc\u001b[0;34m(self, key)\u001b[0m\n\u001b[1;32m   3652\u001b[0m     \u001b[39mreturn\u001b[39;00m \u001b[39mself\u001b[39m\u001b[39m.\u001b[39m_engine\u001b[39m.\u001b[39mget_loc(casted_key)\n\u001b[1;32m   3653\u001b[0m \u001b[39mexcept\u001b[39;00m \u001b[39mKeyError\u001b[39;00m \u001b[39mas\u001b[39;00m err:\n\u001b[0;32m-> 3654\u001b[0m     \u001b[39mraise\u001b[39;00m \u001b[39mKeyError\u001b[39;00m(key) \u001b[39mfrom\u001b[39;00m \u001b[39merr\u001b[39;00m\n\u001b[1;32m   3655\u001b[0m \u001b[39mexcept\u001b[39;00m \u001b[39mTypeError\u001b[39;00m:\n\u001b[1;32m   3656\u001b[0m     \u001b[39m# If we have a listlike key, _check_indexing_error will raise\u001b[39;00m\n\u001b[1;32m   3657\u001b[0m     \u001b[39m#  InvalidIndexError. Otherwise we fall through and re-raise\u001b[39;00m\n\u001b[1;32m   3658\u001b[0m     \u001b[39m#  the TypeError.\u001b[39;00m\n\u001b[1;32m   3659\u001b[0m     \u001b[39mself\u001b[39m\u001b[39m.\u001b[39m_check_indexing_error(key)\n",
      "\u001b[0;31mKeyError\u001b[0m: 'X'"
     ]
    }
   ],
   "source": [
    "infile = path(r\"/Users/anhtran/Documents/GitHub/axon_generation/axon_info.csv\")\n",
    "outfile = path(r\"/Users/anhtran/Documents/GitHub/axon_generation/axon_info_XYZ.csv\")\n",
    "\n",
    "ppm = 2401.336 / 1000\n",
    "imagej_to_sim4life(infile, outfile, ppm, \"Fascicle 1\")"
   ]
  }
 ],
 "metadata": {
  "kernelspec": {
   "display_name": "aetorch",
   "language": "python",
   "name": "python3"
  },
  "language_info": {
   "codemirror_mode": {
    "name": "ipython",
    "version": 3
   },
   "file_extension": ".py",
   "mimetype": "text/x-python",
   "name": "python",
   "nbconvert_exporter": "python",
   "pygments_lexer": "ipython3",
   "version": "3.11.3"
  },
  "orig_nbformat": 4
 },
 "nbformat": 4,
 "nbformat_minor": 2
}
